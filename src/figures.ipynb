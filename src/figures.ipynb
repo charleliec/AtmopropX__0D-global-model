{
 "cells": [
  {
   "cell_type": "code",
   "execution_count": 8,
   "id": "1b5fb6bf",
   "metadata": {},
   "outputs": [
    {
     "name": "stdout",
     "output_type": "stream",
     "text": [
      "10\n"
     ]
    },
    {
     "data": {
      "image/png": "[encoded data removed]",
      "text/plain": [
       "<Figure size 330x250 with 1 Axes>"
      ]
     },
     "metadata": {},
     "output_type": "display_data"
    }
   ],
   "source": [
    "import pandas as pd\n",
    "import json\n",
    "import numpy as np\n",
    "import matplotlib.pyplot as plt\n",
    "import scienceplots\n",
    "\n",
    "# Load the JSON data\n",
    "Te, Tmono, Tdiato = [], [], []\n",
    "for i in range(10):\n",
    "    with open(\"../logs/all_reac_current_rf\"+str(i)+\".json\", 'r') as f:\n",
    "        data = json.load(f)\n",
    "\n",
    "    Te.append(data[\"temperature_0_atom\"][-1])\n",
    "    Tmono.append(data[\"temperature_1_atom\"][-1])\n",
    "    Tdiato.append(data[\"temperature_2_atom\"][-1])\n",
    "\n",
    "print(len(Te))\n",
    "\n",
    "PRF = np.linspace(50, 3000, 10)\n",
    "\n",
    "plt.style.use(['science', 'nature'])\n",
    "\n",
    "plt.plot(PRF, Te, label = \"Electron temperature\")\n",
    "plt.plot(PRF, Tmono, label = \"Monoatomic temperature\")\n",
    "plt.plot(PRF, Tdiato, label = \"Diatomic temperature\")\n",
    "plt.grid()\n",
    "plt.show()\n",
    "\n",
    "\n"
   ]
  }
 ],
 "metadata": {
  "kernelspec": {
   "display_name": "AtmopropX",
   "language": "python",
   "name": "python3"
  },
  "language_info": {
   "codemirror_mode": {
    "name": "ipython",
    "version": 3
   },
   "file_extension": ".py",
   "mimetype": "text/x-python",
   "name": "python",
   "nbconvert_exporter": "python",
   "pygments_lexer": "ipython3",
   "version": "3.13.2"
  }
 },
 "nbformat": 4,
 "nbformat_minor": 5
}
