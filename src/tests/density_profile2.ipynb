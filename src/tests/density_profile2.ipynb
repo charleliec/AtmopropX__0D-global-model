{
 "cells": [
  {
   "cell_type": "markdown",
   "id": "a5fd6686",
   "metadata": {},
   "source": [
    "# Simulation"
   ]
  },
  {
   "cell_type": "code",
   "execution_count": null,
   "id": "21c20530",
   "metadata": {},
   "outputs": [],
   "source": [
    "import  fenics as fe\n",
    "from dolfin import *\n",
    "from mshr import *\n",
    "\n",
    "\n",
    "R = 0.5  # Radius of the cylinder\n",
    "L = 2   #length of the cylinder\n",
    "\n",
    "D_a = 1\n",
    "A = 0.1\n",
    "u_B = 1"
   ]
  },
  {
   "cell_type": "code",
   "execution_count": null,
   "id": "bf5f4556",
   "metadata": {},
   "outputs": [],
   "source": [
    "constant_shift = fe.Constant(0.01)\n",
    "\n",
    "#Données de précision\n",
    "Number_of_elemnts = 60 #définit la précision du calcul et augmente le temps de calcul\n",
    "Degree_of_elements = 1 #définit la précision du calcul\n",
    "\n",
    "# Define the geometry and mesh\n",
    "cylinder = Cylinder(fe.Point(0, 0, 0), fe.Point(L, 0, 0), R, R)\n",
    "\n",
    "mesh = generate_mesh(cylinder, Number_of_elemnts) # Generates a mesh with Number_of_elements divisions\n",
    "lagrange_vector_space_first_order = fe.FunctionSpace(\n",
    "        mesh,\n",
    "        \"Lagrange\",\n",
    "        Degree_of_elements,\n",
    "    )\n",
    "print(\"mesh generated\")\n",
    "\n",
    "n_trial = fe.TrialFunction(lagrange_vector_space_first_order) #guess function\n",
    "v_test = fe.TestFunction(lagrange_vector_space_first_order) #test function v\n",
    "\n",
    "#definition of the weak form of the problem\n",
    "weak_form_rhs = - u_B * constant_shift * v_test * fe.ds  \n",
    "weak_form_lhs = (\n",
    "    fe.dot(fe.grad(n_trial), fe.grad(v_test)) * fe.dx #consequence of the IPP\n",
    "    -\n",
    "    u_B * n_trial * v_test * fe.ds #consequence of the boundary conditions\n",
    "    -\n",
    "    A * n_trial * v_test * fe.dx \n",
    ")"
   ]
  },
  {
   "cell_type": "code",
   "execution_count": null,
   "id": "ec96e833",
   "metadata": {},
   "outputs": [],
   "source": [
    "#solving\n",
    "n_solution = fe.Function(lagrange_vector_space_first_order)\n",
    "fe.solve(\n",
    "    weak_form_lhs == weak_form_rhs,\n",
    "    n_solution,\n",
    ")\n",
    "print(fe.assemble(n_solution * fe.dx))"
   ]
  },
  {
   "cell_type": "markdown",
   "id": "314de852",
   "metadata": {},
   "source": [
    "# Results analysis"
   ]
  },
  {
   "cell_type": "code",
   "execution_count": null,
   "id": "174e6a7a",
   "metadata": {},
   "outputs": [],
   "source": [
    "print(\"center_density = \",  n_solution(Point(0.5, 0, 0)))\n",
    "plot(n_solution)\n",
    "plt.show()"
   ]
  },
  {
   "cell_type": "code",
   "execution_count": null,
   "id": "6b0574ce",
   "metadata": {},
   "outputs": [],
   "source": [
    "# Circle density\n",
    "# Vertical cut through x=0 plane (y-z plane)\n",
    "ny, nz = 100, 100\n",
    "y = np.linspace(-R, R, ny)   # adjust to your cylinder size\n",
    "z = np.linspace(-R, R, nz)\n",
    "Y, Z = np.meshgrid(y, z)\n",
    "X = np.zeros_like(Y) + L/2\n",
    "\n",
    "values = np.zeros_like(Y)\n",
    "for i in range(ny):\n",
    "    for j in range(nz):\n",
    "        try:\n",
    "            values[j, i] = n_solution(Point(X[j,i], Y[j,i], Z[j,i]))\n",
    "        except RuntimeError:   # point outside domain\n",
    "            values[j, i] = np.nan\n",
    "\n",
    "plt.figure()\n",
    "plt.imshow(values, extent=[y.min(), y.max(), z.min(), z.max()],\n",
    "           origin=\"lower\", aspect=\"auto\")\n",
    "plt.colorbar(label=\"n_solution\")\n",
    "plt.xlabel(\"Radius 1\")\n",
    "plt.ylabel(\"Radius 2\")\n",
    "plt.title(\"Horizontal cut (x=L/2 plane)\")\n",
    "plt.show()\n"
   ]
  },
  {
   "cell_type": "code",
   "execution_count": null,
   "id": "c345fdfe",
   "metadata": {},
   "outputs": [],
   "source": [
    "# Vertical cut through z=0 plane\n",
    "ny, nz = 100, 100\n",
    "y = np.linspace(-R, R, ny)   # adjust to your cylinder size\n",
    "z = np.linspace(0, L, nz)\n",
    "Y, Z = np.meshgrid(y, z)\n",
    "X = np.zeros_like(Y)\n",
    "\n",
    "values = np.zeros_like(Y)\n",
    "for j in range(nz):\n",
    "    for i in range(ny):\n",
    "        try:\n",
    "            values[j, i] = n_solution(Point(Z[j,i], Y[j,i], X[j,i]))\n",
    "        except RuntimeError:   # point outside domain\n",
    "            values[j, i] = np.nan\n",
    "\n",
    "plt.figure()\n",
    "plt.imshow(values, extent=[y.min(), y.max(), z.min(), z.max()],\n",
    "           origin=\"lower\", aspect=\"auto\")\n",
    "plt.colorbar(label=\"n_solution\")\n",
    "plt.xlabel(\"Length\")\n",
    "plt.ylabel(\"Radius\")\n",
    "plt.title(\"Vertical cut (z=0 plane)\")\n",
    "plt.show()\n"
   ]
  },
  {
   "cell_type": "code",
   "execution_count": null,
   "id": "58b31e6c",
   "metadata": {},
   "outputs": [],
   "source": [
    "ny, nz = 100, 100\n",
    "y =0   # adjust to your cylinder size\n",
    "z = np.linspace(0, L, nz)\n",
    "\n",
    "\n",
    "values = []\n",
    "for i in range(nz):\n",
    "        try:\n",
    "            values.append(n_solution(Point(z[i], 0, 0)))\n",
    "        except RuntimeError:   # point outside domain\n",
    "            values.append(np.nan)\n",
    "\n",
    "plt.figure()\n",
    "plt.plot(z, values)\n",
    "plt.xlabel(\"length\")\n",
    "plt.ylabel(\"density\")\n",
    "plt.title(\"Vertical cut (x=0 plane)\")\n",
    "plt.show()"
   ]
  }
 ],
 "metadata": {
  "language_info": {
   "name": "python"
  }
 },
 "nbformat": 4,
 "nbformat_minor": 5
}
